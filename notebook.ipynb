{
 "cells": [
  {
   "cell_type": "markdown",
   "metadata": {},
   "source": [
    "# Chaotic Oscillators: Chua's Circuit and the Lorenz System"
   ]
  },
  {
   "cell_type": "markdown",
   "metadata": {},
   "source": [
    "## Background\n",
    "The Lorenz system is perhaps the first and most well-known chaotic system.\n",
    "    \n",
    "\n",
    "Chua's Circuit is a well known nonperiodic oscillator, both for its simplicity (can be made with easily obtainable,relatively cheap components) as well as its complex behaviour: Chua's circuit generates a quintessential chaotic system. In the below example, a \"Chua'\n",
    "<figure>\n",
    "  <img src=\"chuas_circuit_diagram.png\" alt=\"Chua's Circuit\" height=\"202\" width=\"370\" >\n",
    "  <figcaption> Fig.1: Example of a standard Chua's Circuit.</figcaption>\n",
    "</figure>\n",
    "## Equations & Derivation for Chua's Circuit\n",
    "\n"
   ]
  },
  {
   "cell_type": "markdown",
   "metadata": {},
   "source": [
    "$$\n",
    "\\begin{aligned}\n",
    "\\text{Chua's Circuit Equation}:\n",
    " && \\frac{dx}{dt}=\\alpha[y-x-f(x)] && \\frac{dy}{dt}=\\frac{x-y+Rz}{RC_2} && \\frac{dz}{dt}=-\\beta z \\\\\\\\\n",
    "\\text{Lorenz Circuit Equation}:\n",
    " && \\frac{dx}{dt}=\\sigma(y-x) && \\frac{dy}{dt}=x(\\rho-z)-y && \\frac{dz}{dt}=xy-\\beta z \\\\\n",
    "\\end{aligned}\n",
    "$$"
   ]
  },
  {
   "cell_type": "code",
   "execution_count": null,
   "metadata": {
    "collapsed": true
   },
   "outputs": [],
   "source": []
  },
  {
   "cell_type": "code",
   "execution_count": null,
   "metadata": {
    "collapsed": true
   },
   "outputs": [],
   "source": []
  },
  {
   "cell_type": "markdown",
   "metadata": {},
   "source": [
    "[1] - Irimiciuc, Stefan-Andrei, Ovidiu Vasilovici, and Dan-Gheorghe Dimitriu. \"Chua's Circuit: Control and Synchronization.\" International Journal of Bifurcation and Chaos 25.04 (2015): 1550050.\n",
    "\n",
    "[2] - Cruz-Hernández, César, and Hazael Serrano-Guerrero. \"Cryptosystems based on synchronized Chua’s circuits.\" Proceedings of the 16th IFAC world congress, Prague, Czech Republic. 2005.\n",
    "\n",
    "[3] - Jiang, Hui-yan, and Chong Fu. \"An image encryption scheme based on Lorenz chaos system.\" Natural Computation, 2008. ICNC'08. Fourth International Conference on. Vol. 4. IEEE, 2008.\n",
    "\n",
    "[4] - Marco, Anderson Gonçalves, Alexandre Souto Martinez, and Odemir Martinez Bruno. \"Fast, parallel and secure cryptography algorithm using Lorenz's attractor.\" International Journal of Modern Physics C 21.03 (2010): 365-382."
   ]
  },
  {
   "cell_type": "code",
   "execution_count": null,
   "metadata": {
    "collapsed": true
   },
   "outputs": [],
   "source": []
  }
 ],
 "metadata": {
  "kernelspec": {
   "display_name": "Python 3",
   "language": "python",
   "name": "python3"
  },
  "language_info": {
   "codemirror_mode": {
    "name": "ipython",
    "version": 3
   },
   "file_extension": ".py",
   "mimetype": "text/x-python",
   "name": "python",
   "nbconvert_exporter": "python",
   "pygments_lexer": "ipython3",
   "version": "3.5.0"
  }
 },
 "nbformat": 4,
 "nbformat_minor": 0
}
