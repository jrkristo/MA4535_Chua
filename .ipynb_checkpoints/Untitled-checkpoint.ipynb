{
 "cells": [
  {
   "cell_type": "code",
   "execution_count": 3,
   "metadata": {
    "collapsed": false
   },
   "outputs": [],
   "source": [
    "module Lorenz where\n",
    "\n",
    "import Data.Default\n",
    "\n",
    "data LzParam t = LzParam { sigma :: t, r :: t, b :: t } deriving (Eq, Show)\n",
    "\n",
    "instance Floating t => Default (LzParam t) where\n",
    "  def = LzParam 10 28 (8/3)\n",
    "\n",
    "lorenz :: Floating t => t -> [t] -> [t]\n",
    "lorenz = lorenzWith def\n",
    "\n",
    "lorenzWith :: Floating t => LzParam t -> t -> [t] -> [t]\n",
    "lorenzWith (LzParam sigma r b) _ [x, y, z] =\n",
    "  [sigma * (y - x)\n",
    "  , r * x - y - x * z\n",
    "  , x * y - b * z]"
   ]
  },
  {
   "cell_type": "code",
   "execution_count": null,
   "metadata": {
    "collapsed": true
   },
   "outputs": [],
   "source": []
  }
 ],
 "metadata": {
  "kernelspec": {
   "display_name": "Haskell",
   "language": "haskell",
   "name": "haskell"
  },
  "language_info": {
   "codemirror_mode": "ihaskell",
   "file_extension": ".hs",
   "name": "haskell",
   "version": "7.10.2"
  }
 },
 "nbformat": 4,
 "nbformat_minor": 0
}
