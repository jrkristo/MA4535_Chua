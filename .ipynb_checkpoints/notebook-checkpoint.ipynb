{
 "cells": [
  {
   "cell_type": "markdown",
   "metadata": {},
   "source": [
    "# Chaotic Oscillators: Chua's Circuit and the Lorenz System"
   ]
  },
  {
   "cell_type": "markdown",
   "metadata": {},
   "source": [
    "## Background\n",
    "The Lorenz system is perhaps the first and most well-known chaotic system.\n",
    "    \n",
    "\n",
    "Chua's Circuit is a well known nonperiodic oscillator, both for its simplicity (can be made with easily obtainable,relatively cheap components) as well as its complex behaviour: Chua's circuit generates a quintessential chaotic system. In the below example, a \"Chua'\n",
    "<figure>\n",
    "  <img src=\"img\\chua_circ.svg.png\" alt=\"Chua's Circuit\" height=\"202\" width=\"370\" >\n",
    "  <figcaption> Fig.1: Example of a standard Chua's Circuit.</figcaption>\n",
    "</figure>\n",
    "\n",
    "## Equations & Derivation for Chua's Circuit\n",
    "\n",
    "<figure>\n",
    "  <img src=\"img\\circ_act.png\" alt=\"Chua's Circuit\" >\n",
    "  <figcaption> Fig.1: Example of a standard Chua's Circuit.</figcaption>\n",
    "</figure>"
   ]
  },
  {
   "cell_type": "markdown",
   "metadata": {},
   "source": [
    "$$\n",
    "\\begin{aligned}\n",
    "\\text{Chua's Circuit Equation}:\n",
    " && \\frac{d{x}}{d{t}}=\\alpha[y-x-f(x)] && \\frac{d{y}}{d{t}}=\\frac{x-y+Rz}{RC_2} && \\frac{dz}{dt}=-\\beta z \\\\\n",
    " \\text{with  } f(x)=A\\\\\n",
    "\\text{Lorenz  Equations}:\n",
    " && \\frac{dx}{dt}=\\sigma(y-x) && \\frac{dy}{dt}=x(\\rho-z)-y && \\frac{dz}{dt}=xy-\\beta z \\\\\n",
    "\\end{aligned}\n",
    "$$"
   ]
  },
  {
   "cell_type": "code",
   "execution_count": 2,
   "metadata": {
    "collapsed": false
   },
   "outputs": [
    {
     "ename": "SyntaxError",
     "evalue": "invalid syntax (<ipython-input-2-6505887cb6c8>, line 13)",
     "output_type": "error",
     "traceback": [
      "\u001b[1;36m  File \u001b[1;32m\"<ipython-input-2-6505887cb6c8>\"\u001b[1;36m, line \u001b[1;32m13\u001b[0m\n\u001b[1;33m    C1  = 10*10^(-9);   %10nF\u001b[0m\n\u001b[1;37m                        ^\u001b[0m\n\u001b[1;31mSyntaxError\u001b[0m\u001b[1;31m:\u001b[0m invalid syntax\n"
     ]
    }
   ],
   "source": [
    "import numpy as np\n",
    "import matplotlib.pyplot as mpl\n",
    "import scipy.integrate as im\n",
    "from mpl_toolkits.mplot3d import Axes3D\n",
    "\n",
    "\n",
    "x = np.random.rand() #%v_1\n",
    "y = np.random.rand() #%v_2\n",
    "z = np.random.rand() #%i_L\n",
    "C1  = 10*10^(-9)  # %10nF\n",
    "C2  = 100*10^(-9) #%100nF\n",
    "R = 1800          # %1.8k Ohms\n",
    "G = 1/R\n",
    "\n",
    "#%Chua Diode*************************************\n",
    "# In Ohms\n",
    "R1 = 220\n",
    "R2 = 220\n",
    "R3 = 2200\n",
    "R4 = 22000\n",
    "R5 = 22000\n",
    "R6 = 3300\n",
    "\n",
    "Esat = 9; #This refers to the +- volatage of the power supplied to the opamps. Using the TL084s, 7-36 volts. \n",
    "#If it pops, you've gone too high\n",
    "E1 = R3/(R2+R3)*Esat;\n",
    "E2 = R6/(R5+R6)*Esat;\n",
    "\n",
    "m12 = -1/R6 #The slopes of f(x) in the nonlinear element\n",
    "m02 = 1/R4\n",
    "m01 = 1/R1\n",
    "m11 = -1/R3\n",
    "\n",
    "m1 = m12+m11;\n",
    "\n",
    "if E1 > E2:\n",
    "    m0 = m11 + m02\n",
    "else:\n",
    "    m0 = m12 + m01;   \n",
    "\n",
    "mm1 = m01 + m02\n",
    "Emax = max(E1,E2)\n",
    "Emin = min(E1,E2)\n",
    "\n",
    "\n",
    "if abs(x) < Emin:\n",
    "    g = x*m1;     \n",
    "elif abs(x) < Emax: \n",
    "    g = x*m0;\n",
    "    if x > 0:\n",
    "        g = g + Emin*(m1-m0);    \n",
    "    else:\n",
    "        g = g + Emin*(m0-m1);  \n",
    "    \n",
    "elif abs(x) >= Emax:\n",
    "    g = x*mm1    \n",
    "    if x > 0:\n",
    "        g = g + Emax*(m0-mm1) + Emin*(m1-m0);\n",
    "    else:\n",
    "        g = g + Emax*(mm1-m0) +  Emin*(m0-m1);\n",
    "    \n",
    "\n",
    "#%end Chua Diode*************************************\n",
    "\n",
    "#%Gyrator*********************************\n",
    "R7  = 100  #%100 Ohms\n",
    "R8  = 1000 #%1k Ohms\n",
    "R9  = 1000 #%1k Ohms\n",
    "R10 = 1800\n",
    "C   = 100*10^(-9) #%100nF\n",
    "L = R7*R9*C*R10/R8 #%18mH \n",
    "\n",
    "%end Gyrator******************************\n",
    "\n",
    "% Chua's Circuit Equation\n",
    "def dx(t):\n",
    "    if t == 0:\n",
    "        return 1\n",
    "    else:\n",
    "        return (1/C1)*(G*(dy(0)-dx(0))-g)\n",
    "xdot = (1/C1)*(G*(y-x)-g)\n",
    "ydot = (1/C2)*(G*(x-y)+z)\n",
    "zdot  = -(1/L)*y\n",
    "\n",
    "out = [xdot ydot zdot]';\n",
    "%----------StartRealChua.m----------\n",
    "[t,y] = ode45(@RealChua,[0 0.05],[-0.5 -0.2 0]);\n",
    "plot3(y(:,1),y(:,2),y(:,3))\n",
    "grid\n"
   ]
  },
  {
   "cell_type": "code",
   "execution_count": null,
   "metadata": {
    "collapsed": true
   },
   "outputs": [],
   "source": []
  },
  {
   "cell_type": "markdown",
   "metadata": {},
   "source": [
    "## Applications\n",
    "\n",
    "Besides strictly being an example of a chaotic nonlinear system, certain properties of Chua's circuit naturally are sought in some applications"
   ]
  },
  {
   "cell_type": "markdown",
   "metadata": {},
   "source": [
    "[1] - Irimiciuc, Stefan-Andrei, Ovidiu Vasilovici, and Dan-Gheorghe Dimitriu. \"Chua's Circuit: Control and Synchronization.\" International Journal of Bifurcation and Chaos 25.04 (2015): 1550050.\n",
    "\n",
    "[2] - Cruz-Hernández, César, and Hazael Serrano-Guerrero. \"Cryptosystems based on synchronized Chua’s circuits.\" Proceedings of the 16th IFAC world congress, Prague, Czech Republic. 2005.\n",
    "\n",
    "[3] - Jiang, Hui-yan, and Chong Fu. \"An image encryption scheme based on Lorenz chaos system.\" Natural Computation, 2008. ICNC'08. Fourth International Conference on. Vol. 4. IEEE, 2008.\n",
    "\n",
    "[4] - Marco, Anderson Gonçalves, Alexandre Souto Martinez, and Odemir Martinez Bruno. \"Fast, parallel and secure cryptography algorithm using Lorenz's attractor.\" International Journal of Modern Physics C 21.03 (2010): 365-382."
   ]
  },
  {
   "cell_type": "code",
   "execution_count": null,
   "metadata": {
    "collapsed": true
   },
   "outputs": [],
   "source": []
  }
 ],
 "metadata": {
  "kernelspec": {
   "display_name": "Python 3",
   "language": "python",
   "name": "python3"
  },
  "language_info": {
   "codemirror_mode": {
    "name": "ipython",
    "version": 3
   },
   "file_extension": ".py",
   "mimetype": "text/x-python",
   "name": "python",
   "nbconvert_exporter": "python",
   "pygments_lexer": "ipython3",
   "version": "3.5.0"
  }
 },
 "nbformat": 4,
 "nbformat_minor": 0
}
